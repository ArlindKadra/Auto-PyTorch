{
 "cells": [
  {
   "cell_type": "markdown",
   "metadata": {},
   "source": [
    "# Introduction\n",
    "\n",
    "This tutorial introduces the basic Auto-PyTorch API together with the classes for featurized and image data.\n",
    "So far, Auto-PyTorch covers classification and regression on featurized data as well as classification on image data.\n",
    "For installing Auto-PyTorch, please refer to the github page.\n",
    "\n",
    "**Disclaimer**: In this notebook, data will be downloaded from the openml project for featurized tasks and CIFAR10 will be downloaded for image classification. Hence, an internet connection is required."
   ]
  },
  {
   "cell_type": "markdown",
   "metadata": {},
   "source": [
    "# API\n",
    "\n",
    "There are classes for featurized tasks (classification, multi-label classification, regression) and image tasks (classification). You can import them via:"
   ]
  },
  {
   "cell_type": "code",
   "execution_count": 1,
   "metadata": {},
   "outputs": [],
   "source": [
    "from autoPyTorch import (AutoNetClassification,\n",
    "                         AutoNetMultilabel,\n",
    "                         AutoNetRegression,\n",
    "                         AutoNetImageClassification,\n",
    "                         AutoNetImageClassificationMultipleDatasets)"
   ]
  },
  {
   "cell_type": "code",
   "execution_count": 2,
   "metadata": {},
   "outputs": [],
   "source": [
    "# Other imports for later usage\n",
    "import pandas as pd\n",
    "import numpy as np\n",
    "import os as os\n",
    "import openml\n",
    "import json"
   ]
  },
  {
   "cell_type": "markdown",
   "metadata": {},
   "source": [
    "Upon initialization of a class, you can specify its configuration. Later, you can override its configuration in each fit call. The *config_preset* allows to constrain the search space to one of *tiny_cs, medium_cs* or *full_cs*. These presets can be seen in *core/presets/*."
   ]
  },
  {
   "cell_type": "code",
   "execution_count": 3,
   "metadata": {},
   "outputs": [
    {
     "name": "stderr",
     "output_type": "stream",
     "text": [
      "C:\\Users\\monum\\Anaconda3\\envs\\torch_gpu\\lib\\site-packages\\sklearn\\utils\\deprecation.py:144: FutureWarning: The sklearn.metrics.classification module is  deprecated in version 0.22 and will be removed in version 0.24. The corresponding classes / functions should instead be imported from sklearn.metrics. Anything that cannot be imported from sklearn.metrics is now part of the private API.\n",
      "  warnings.warn(message, FutureWarning)\n"
     ]
    }
   ],
   "source": [
    "autonet = AutoNetClassification(result_logger_dir=\"logs/\")"
   ]
  },
  {
   "cell_type": "markdown",
   "metadata": {},
   "source": [
    "Here are some useful methods provided by the API:"
   ]
  },
  {
   "cell_type": "code",
   "execution_count": 4,
   "metadata": {
    "scrolled": true
   },
   "outputs": [],
   "source": [
    "# Get the current configuration as dict\n",
    "current_configuration = autonet.get_current_autonet_config()\n",
    "\n",
    "# Get the ConfigSpace object with all hyperparameters, conditions, default values and default ranges\n",
    "hyperparameter_search_space = autonet.get_hyperparameter_search_space()\n",
    "\n",
    "# Print all possible configuration options \n",
    "#autonet.print_help()"
   ]
  },
  {
   "cell_type": "code",
   "execution_count": 5,
   "metadata": {},
   "outputs": [
    {
     "name": "stdout",
     "output_type": "stream",
     "text": [
      "{'embeddings': ['none'], 'lr_scheduler': ['cosine_annealing', 'plateau'], 'networks': ['shapedresnet'], 'over_sampling_methods': ['smote'], 'preprocessors': ['none', 'truncated_svd', 'power_transformer'], 'target_size_strategies': ['none', 'upsample', 'median'], 'result_logger_dir': 'logs/', 'log_level': 'warning', 'hyperparameter_search_space_updates': None, 'categorical_features': None, 'dataset_name': None, 'run_id': '0', 'task_id': -1, 'algorithm': 'bohb', 'budget_type': 'time', 'eta': 3, 'min_workers': 1, 'working_dir': '.', 'network_interface_name': '{760AB756-6D92-4507-B266-F1952C20D713}', 'memory_limit_mb': 1000000, 'use_tensorboard_logger': False, 'run_worker_on_master_node': True, 'use_pynisher': True, 'validation_split': 0.3, 'refit_validation_split': 0.0, 'cross_validator': 'none', 'cross_validator_args': {}, 'min_budget_for_cv': 0, 'shuffle': True, 'imputation_strategies': ['mean', 'median', 'most_frequent'], 'normalization_strategies': ['none', 'minmax', 'standardize', 'maxabs'], 'under_sampling_methods': ['none', 'random'], 'final_activation': 'softmax', 'use_lookahead': [True, False], 'use_swa': [True, False], 'use_se': [True, False], 'initialization_methods': ['default', 'sparse'], 'initializer': 'simple_initializer', 'optimizer': ['adam', 'adamw', 'sgd', 'rmsprop'], 'additional_logs': [], 'optimize_metric': 'accuracy', 'additional_metrics': [], 'loss_modules': ['cross_entropy', 'cross_entropy_weighted'], 'batch_loss_computation_techniques': ['standard', 'mixup', 'cutmix', 'cutout'], 'cuda': True, 'torch_num_threads': 1, 'full_eval_each_epoch': False, 'best_over_epochs': False, 'early_stopping_patience': inf, 'early_stopping_reset_parameters': False, 'random_seed': 1685361126, 'min_budget': 120, 'max_budget': 6000, 'max_runtime': 24000, 'num_iterations': inf}\n"
     ]
    }
   ],
   "source": [
    "print(current_configuration)"
   ]
  },
  {
   "cell_type": "code",
   "execution_count": 6,
   "metadata": {},
   "outputs": [
    {
     "name": "stdout",
     "output_type": "stream",
     "text": [
      "Configuration space object:\n",
      "  Hyperparameters:\n",
      "    CreateDataLoader:batch_size, Type: UniformInteger, Range: [32, 500], Default: 126, on log-scale\n",
      "    Imputation:strategy, Type: Categorical, Choices: {most_frequent, mean, median}, Default: most_frequent\n",
      "    InitializationSelector:initialization_method, Type: Categorical, Choices: {default, sparse}, Default: default\n",
      "    InitializationSelector:initializer:initialize_bias, Type: Categorical, Choices: {Yes, No, Zero}, Default: Yes\n",
      "    InitializationSelector:sparse:sparsity, Type: Constant, Value: 0.9\n",
      "    LearningrateSchedulerSelector:cosine_annealing:T_max, Type: UniformInteger, Range: [1, 20], Default: 10\n",
      "    LearningrateSchedulerSelector:cosine_annealing:T_mult, Type: UniformFloat, Range: [1.0, 2.0], Default: 1.5\n",
      "    LearningrateSchedulerSelector:lr_scheduler, Type: Categorical, Choices: {cosine_annealing, plateau}, Default: cosine_annealing\n",
      "    LearningrateSchedulerSelector:plateau:factor, Type: UniformFloat, Range: [0.05, 0.5], Default: 0.275\n",
      "    LearningrateSchedulerSelector:plateau:patience, Type: UniformInteger, Range: [3, 10], Default: 6\n",
      "    LossModuleSelector:loss_module, Type: Categorical, Choices: {cross_entropy_weighted, cross_entropy}, Default: cross_entropy_weighted\n",
      "    NetworkSelector:lookahead:la_alpha, Type: UniformFloat, Range: [0.5, 0.8], Default: 0.632455532, on log-scale\n",
      "    NetworkSelector:lookahead:la_steps, Type: UniformInteger, Range: [1, 5], Default: 3\n",
      "    NetworkSelector:network, Type: Categorical, Choices: {shapedresnet}, Default: shapedresnet\n",
      "    NetworkSelector:se_lastk, Type: UniformInteger, Range: [2, 20], Default: 6\n",
      "    NetworkSelector:shapedresnet:activation, Type: Categorical, Choices: {sigmoid, tanh, relu}, Default: sigmoid\n",
      "    NetworkSelector:shapedresnet:blocks_per_group, Type: UniformInteger, Range: [1, 4], Default: 2\n",
      "    NetworkSelector:shapedresnet:dropout_shape, Type: Categorical, Choices: {funnel, long_funnel, diamond, hexagon, brick, triangle, stairs}, Default: funnel\n",
      "    NetworkSelector:shapedresnet:max_dropout, Type: UniformFloat, Range: [0.0, 0.8], Default: 0.4\n",
      "    NetworkSelector:shapedresnet:max_shake_drop_probability, Type: UniformFloat, Range: [0.0, 1.0], Default: 0.5\n",
      "    NetworkSelector:shapedresnet:max_units, Type: UniformInteger, Range: [10, 1024], Default: 101, on log-scale\n",
      "    NetworkSelector:shapedresnet:num_groups, Type: UniformInteger, Range: [1, 9], Default: 5\n",
      "    NetworkSelector:shapedresnet:resnet_shape, Type: Categorical, Choices: {funnel, long_funnel, diamond, hexagon, brick, triangle, stairs}, Default: funnel\n",
      "    NetworkSelector:shapedresnet:use_batch_normalization, Type: Categorical, Choices: {True, False}, Default: True\n",
      "    NetworkSelector:shapedresnet:use_dropout, Type: Categorical, Choices: {True, False}, Default: True\n",
      "    NetworkSelector:shapedresnet:use_shake_drop, Type: Categorical, Choices: {True, False}, Default: True\n",
      "    NetworkSelector:shapedresnet:use_shake_shake, Type: Categorical, Choices: {True, False}, Default: True\n",
      "    NetworkSelector:use_lookahead, Type: Categorical, Choices: {True, False}, Default: True\n",
      "    NetworkSelector:use_se, Type: Categorical, Choices: {True, False}, Default: True\n",
      "    NetworkSelector:use_swa, Type: Categorical, Choices: {True, False}, Default: True\n",
      "    NormalizationStrategySelector:normalization_strategy, Type: Categorical, Choices: {none, standardize, maxabs, minmax}, Default: none\n",
      "    OptimizerSelector:adam:learning_rate, Type: UniformFloat, Range: [0.0001, 0.1], Default: 0.0031622777, on log-scale\n",
      "    OptimizerSelector:adam:use_weight_decay, Type: Categorical, Choices: {True, False}, Default: True\n",
      "    OptimizerSelector:adam:weight_decay, Type: UniformFloat, Range: [1e-05, 0.1], Default: 0.050005\n",
      "    OptimizerSelector:adamw:learning_rate, Type: UniformFloat, Range: [0.0001, 0.1], Default: 0.0031622777, on log-scale\n",
      "    OptimizerSelector:adamw:use_weight_decay, Type: Categorical, Choices: {True, False}, Default: True\n",
      "    OptimizerSelector:adamw:weight_decay, Type: UniformFloat, Range: [1e-05, 0.1], Default: 0.050005\n",
      "    OptimizerSelector:optimizer, Type: Categorical, Choices: {sgd, adamw, rmsprop, adam}, Default: sgd\n",
      "    OptimizerSelector:rmsprop:alpha, Type: UniformFloat, Range: [0.1, 0.99], Default: 0.545\n",
      "    OptimizerSelector:rmsprop:learning_rate, Type: UniformFloat, Range: [0.0001, 0.1], Default: 0.0031622777, on log-scale\n",
      "    OptimizerSelector:rmsprop:momentum, Type: UniformFloat, Range: [0.1, 0.99], Default: 0.3146426545, on log-scale\n",
      "    OptimizerSelector:rmsprop:use_weight_decay, Type: Categorical, Choices: {True, False}, Default: True\n",
      "    OptimizerSelector:rmsprop:weight_decay, Type: UniformFloat, Range: [1e-05, 0.1], Default: 0.050005\n",
      "    OptimizerSelector:sgd:learning_rate, Type: UniformFloat, Range: [0.0001, 0.1], Default: 0.0031622777, on log-scale\n",
      "    OptimizerSelector:sgd:momentum, Type: UniformFloat, Range: [0.1, 0.99], Default: 0.3146426545, on log-scale\n",
      "    OptimizerSelector:sgd:use_weight_decay, Type: Categorical, Choices: {True, False}, Default: True\n",
      "    OptimizerSelector:sgd:weight_decay, Type: UniformFloat, Range: [1e-05, 0.1], Default: 0.050005\n",
      "    PreprocessorSelector:power_transformer:method, Type: Categorical, Choices: {yeo-johnson, box-cox}, Default: yeo-johnson\n",
      "    PreprocessorSelector:power_transformer:standardize, Type: Categorical, Choices: {True, False}, Default: True\n",
      "    PreprocessorSelector:preprocessor, Type: Categorical, Choices: {power_transformer, none, truncated_svd}, Default: power_transformer\n",
      "    PreprocessorSelector:truncated_svd:target_dim, Type: UniformInteger, Range: [10, 256], Default: 133\n",
      "    ResamplingStrategySelector:over_sampling_method, Type: Categorical, Choices: {smote}, Default: smote\n",
      "    ResamplingStrategySelector:smote:k_neighbors, Type: UniformInteger, Range: [3, 7], Default: 5\n",
      "    ResamplingStrategySelector:target_size_strategy, Type: Categorical, Choices: {none, median, upsample}, Default: none\n",
      "    ResamplingStrategySelector:under_sampling_method, Type: Categorical, Choices: {none, random}, Default: none\n",
      "    TrainNode:batch_loss_computation_technique, Type: Categorical, Choices: {standard, mixup, cutout, cutmix}, Default: standard\n",
      "    TrainNode:cutmix:beta, Type: Constant, Value: 1.0\n",
      "    TrainNode:cutmix:cutmix_prob, Type: UniformFloat, Range: [0.0, 1.0], Default: 0.5\n",
      "    TrainNode:cutout:cutout_prob, Type: UniformFloat, Range: [0.0, 1.0], Default: 0.5\n",
      "    TrainNode:cutout:patch_ratio, Type: UniformFloat, Range: [0.0, 1.0], Default: 0.5\n",
      "    TrainNode:mixup:alpha, Type: UniformFloat, Range: [0.0, 1.0], Default: 0.5\n",
      "  Conditions:\n",
      "    InitializationSelector:sparse:sparsity | InitializationSelector:initialization_method == 'sparse'\n",
      "    LearningrateSchedulerSelector:cosine_annealing:T_max | LearningrateSchedulerSelector:lr_scheduler == 'cosine_annealing'\n",
      "    LearningrateSchedulerSelector:cosine_annealing:T_mult | LearningrateSchedulerSelector:lr_scheduler == 'cosine_annealing'\n",
      "    LearningrateSchedulerSelector:plateau:factor | LearningrateSchedulerSelector:lr_scheduler == 'plateau'\n",
      "    LearningrateSchedulerSelector:plateau:patience | LearningrateSchedulerSelector:lr_scheduler == 'plateau'\n",
      "    NetworkSelector:lookahead:la_alpha | NetworkSelector:use_lookahead == True\n",
      "    NetworkSelector:lookahead:la_steps | NetworkSelector:use_lookahead == True\n",
      "    NetworkSelector:se_lastk | NetworkSelector:use_se == True\n",
      "    NetworkSelector:shapedresnet:activation | NetworkSelector:network == 'shapedresnet'\n",
      "    NetworkSelector:shapedresnet:blocks_per_group | NetworkSelector:network == 'shapedresnet'\n",
      "    NetworkSelector:shapedresnet:dropout_shape | NetworkSelector:shapedresnet:use_dropout == True\n",
      "    NetworkSelector:shapedresnet:max_dropout | NetworkSelector:shapedresnet:use_dropout == True\n",
      "    NetworkSelector:shapedresnet:max_shake_drop_probability | NetworkSelector:shapedresnet:use_shake_drop == True\n",
      "    NetworkSelector:shapedresnet:max_units | NetworkSelector:network == 'shapedresnet'\n",
      "    NetworkSelector:shapedresnet:num_groups | NetworkSelector:network == 'shapedresnet'\n",
      "    NetworkSelector:shapedresnet:resnet_shape | NetworkSelector:network == 'shapedresnet'\n",
      "    NetworkSelector:shapedresnet:use_batch_normalization | NetworkSelector:network == 'shapedresnet'\n",
      "    NetworkSelector:shapedresnet:use_dropout | NetworkSelector:network == 'shapedresnet'\n",
      "    NetworkSelector:shapedresnet:use_shake_drop | NetworkSelector:network == 'shapedresnet'\n",
      "    NetworkSelector:shapedresnet:use_shake_shake | NetworkSelector:network == 'shapedresnet'\n",
      "    OptimizerSelector:adam:learning_rate | OptimizerSelector:optimizer == 'adam'\n",
      "    OptimizerSelector:adam:use_weight_decay | OptimizerSelector:optimizer == 'adam'\n",
      "    OptimizerSelector:adam:weight_decay | OptimizerSelector:adam:use_weight_decay == True\n",
      "    OptimizerSelector:adamw:learning_rate | OptimizerSelector:optimizer == 'adamw'\n",
      "    OptimizerSelector:adamw:use_weight_decay | OptimizerSelector:optimizer == 'adamw'\n",
      "    OptimizerSelector:adamw:weight_decay | OptimizerSelector:adamw:use_weight_decay == True\n",
      "    OptimizerSelector:rmsprop:alpha | OptimizerSelector:optimizer == 'rmsprop'\n",
      "    OptimizerSelector:rmsprop:learning_rate | OptimizerSelector:optimizer == 'rmsprop'\n",
      "    OptimizerSelector:rmsprop:momentum | OptimizerSelector:optimizer == 'rmsprop'\n",
      "    OptimizerSelector:rmsprop:use_weight_decay | OptimizerSelector:optimizer == 'rmsprop'\n",
      "    OptimizerSelector:rmsprop:weight_decay | OptimizerSelector:rmsprop:use_weight_decay == True\n",
      "    OptimizerSelector:sgd:learning_rate | OptimizerSelector:optimizer == 'sgd'\n",
      "    OptimizerSelector:sgd:momentum | OptimizerSelector:optimizer == 'sgd'\n",
      "    OptimizerSelector:sgd:use_weight_decay | OptimizerSelector:optimizer == 'sgd'\n",
      "    OptimizerSelector:sgd:weight_decay | OptimizerSelector:sgd:use_weight_decay == True\n",
      "    PreprocessorSelector:power_transformer:method | PreprocessorSelector:preprocessor == 'power_transformer'\n",
      "    PreprocessorSelector:power_transformer:standardize | PreprocessorSelector:preprocessor == 'power_transformer'\n",
      "    PreprocessorSelector:truncated_svd:target_dim | PreprocessorSelector:preprocessor == 'truncated_svd'\n",
      "    ResamplingStrategySelector:smote:k_neighbors | ResamplingStrategySelector:over_sampling_method == 'smote'\n",
      "    TrainNode:cutmix:beta | TrainNode:batch_loss_computation_technique == 'cutmix'\n",
      "    TrainNode:cutmix:cutmix_prob | TrainNode:batch_loss_computation_technique == 'cutmix'\n",
      "    TrainNode:cutout:cutout_prob | TrainNode:batch_loss_computation_technique == 'cutout'\n",
      "    TrainNode:cutout:patch_ratio | TrainNode:batch_loss_computation_technique == 'cutout'\n",
      "    TrainNode:mixup:alpha | TrainNode:batch_loss_computation_technique == 'mixup'\n",
      "\n"
     ]
    }
   ],
   "source": [
    "print(hyperparameter_search_space)"
   ]
  },
  {
   "cell_type": "markdown",
   "metadata": {
    "scrolled": true
   },
   "source": [
    "The most important methods for using Auto-PyTorch are ***fit***, ***refit***, ***score*** and ***predict***.\n",
    "\n",
    "First, we get some data:"
   ]
  },
  {
   "cell_type": "code",
   "execution_count": 7,
   "metadata": {
    "scrolled": true
   },
   "outputs": [],
   "source": [
    "# Get data from the openml task \"Supervised Classification on credit-g (https://www.openml.org/t/31)\"\n",
    "task = openml.tasks.get_task(task_id=31)\n",
    "X, y = task.get_X_and_y()\n",
    "ind_train, ind_test = task.get_train_test_split_indices()\n",
    "X_train, Y_train = X[ind_train], y[ind_train]\n",
    "X_test, Y_test = X[ind_test], y[ind_test]"
   ]
  },
  {
   "cell_type": "markdown",
   "metadata": {},
   "source": [
    "***fit*** is used to search for a good configuration by fitting configurations chosen by the algorithm (by default BOHB). The incumbent configuration is then returned and stored in the class.\n",
    "\n",
    "We recommend to have a look at the possible configuration options first. Some of the most important options allow you to set the budget type (epochs or time), run id and task id for cluster usage, tensorboard logging, seed and more.\n",
    "\n",
    "Here we search for a configuration for 300 seconds with 60-100 s time for fitting each individual configuration.\n",
    "Use the *validation_split* parameter to specify a split size. You can also pass your own validation set\n",
    "via *X_val* and *Y_val*. Use *log_level=\"info\"* or *log_level=\"debug\"* for more detailed output."
   ]
  },
  {
   "cell_type": "code",
   "execution_count": 8,
   "metadata": {
    "scrolled": false
   },
   "outputs": [
    {
     "name": "stderr",
     "output_type": "stream",
     "text": [
      "Using TensorFlow backend.\n"
     ]
    },
    {
     "name": "stdout",
     "output_type": "stream",
     "text": [
      "lastk:  12\n",
      "1-th SE update triggered\n",
      "Scheduler :<class 'autoPyTorch.components.lr_scheduler.lr_schedulers.CosineAnnealingWithRestartsLR'>\n",
      "2-th SE update triggered\n",
      "Scheduler :<class 'autoPyTorch.components.lr_scheduler.lr_schedulers.CosineAnnealingWithRestartsLR'>\n",
      "3-th SE update triggered\n",
      "Scheduler :<class 'autoPyTorch.components.lr_scheduler.lr_schedulers.CosineAnnealingWithRestartsLR'>\n",
      "4-th SE update triggered\n",
      "Scheduler :<class 'autoPyTorch.components.lr_scheduler.lr_schedulers.CosineAnnealingWithRestartsLR'>\n",
      "Wrapping up training!, Final models count:  4\n",
      "lastk:  2\n",
      "1-th SE update triggered\n",
      "Scheduler :<class 'torch.optim.lr_scheduler.ReduceLROnPlateau'>\n",
      "2-th SE update triggered\n",
      "Scheduler :<class 'torch.optim.lr_scheduler.ReduceLROnPlateau'>\n",
      "3-th SE update triggered\n",
      "Scheduler :<class 'torch.optim.lr_scheduler.ReduceLROnPlateau'>\n",
      "4-th SE update triggered\n",
      "Scheduler :<class 'torch.optim.lr_scheduler.ReduceLROnPlateau'>\n",
      "5-th SE update triggered\n",
      "Scheduler :<class 'torch.optim.lr_scheduler.ReduceLROnPlateau'>\n",
      "6-th SE update triggered\n",
      "Scheduler :<class 'torch.optim.lr_scheduler.ReduceLROnPlateau'>\n",
      "7-th SE update triggered\n",
      "Scheduler :<class 'torch.optim.lr_scheduler.ReduceLROnPlateau'>\n",
      "8-th SE update triggered\n",
      "Scheduler :<class 'torch.optim.lr_scheduler.ReduceLROnPlateau'>\n",
      "9-th SE update triggered\n",
      "Scheduler :<class 'torch.optim.lr_scheduler.ReduceLROnPlateau'>\n",
      "10-th SE update triggered\n",
      "Scheduler :<class 'torch.optim.lr_scheduler.ReduceLROnPlateau'>\n",
      "11-th SE update triggered\n",
      "Scheduler :<class 'torch.optim.lr_scheduler.ReduceLROnPlateau'>\n",
      "12-th SE update triggered\n",
      "Scheduler :<class 'torch.optim.lr_scheduler.ReduceLROnPlateau'>\n",
      "13-th SE update triggered\n",
      "Scheduler :<class 'torch.optim.lr_scheduler.ReduceLROnPlateau'>\n",
      "14-th SE update triggered\n",
      "Scheduler :<class 'torch.optim.lr_scheduler.ReduceLROnPlateau'>\n",
      "15-th SE update triggered\n",
      "Scheduler :<class 'torch.optim.lr_scheduler.ReduceLROnPlateau'>\n",
      "16-th SE update triggered\n",
      "Scheduler :<class 'torch.optim.lr_scheduler.ReduceLROnPlateau'>\n",
      "17-th SE update triggered\n",
      "Scheduler :<class 'torch.optim.lr_scheduler.ReduceLROnPlateau'>\n",
      "18-th SE update triggered\n",
      "Scheduler :<class 'torch.optim.lr_scheduler.ReduceLROnPlateau'>\n",
      "19-th SE update triggered\n",
      "Scheduler :<class 'torch.optim.lr_scheduler.ReduceLROnPlateau'>\n",
      "20-th SE update triggered\n",
      "Scheduler :<class 'torch.optim.lr_scheduler.ReduceLROnPlateau'>\n",
      "21-th SE update triggered\n",
      "Scheduler :<class 'torch.optim.lr_scheduler.ReduceLROnPlateau'>\n",
      "22-th SE update triggered\n",
      "Scheduler :<class 'torch.optim.lr_scheduler.ReduceLROnPlateau'>\n",
      "23-th SE update triggered\n",
      "Scheduler :<class 'torch.optim.lr_scheduler.ReduceLROnPlateau'>\n",
      "24-th SE update triggered\n",
      "Scheduler :<class 'torch.optim.lr_scheduler.ReduceLROnPlateau'>\n",
      "25-th SE update triggered\n",
      "Scheduler :<class 'torch.optim.lr_scheduler.ReduceLROnPlateau'>\n",
      "26-th SE update triggered\n",
      "Scheduler :<class 'torch.optim.lr_scheduler.ReduceLROnPlateau'>\n",
      "27-th SE update triggered\n",
      "Scheduler :<class 'torch.optim.lr_scheduler.ReduceLROnPlateau'>\n",
      "28-th SE update triggered\n",
      "Scheduler :<class 'torch.optim.lr_scheduler.ReduceLROnPlateau'>\n",
      "29-th SE update triggered\n",
      "Scheduler :<class 'torch.optim.lr_scheduler.ReduceLROnPlateau'>\n",
      "30-th SE update triggered\n",
      "Scheduler :<class 'torch.optim.lr_scheduler.ReduceLROnPlateau'>\n",
      "31-th SE update triggered\n",
      "Scheduler :<class 'torch.optim.lr_scheduler.ReduceLROnPlateau'>\n",
      "32-th SE update triggered\n",
      "Scheduler :<class 'torch.optim.lr_scheduler.ReduceLROnPlateau'>\n",
      "33-th SE update triggered\n",
      "Scheduler :<class 'torch.optim.lr_scheduler.ReduceLROnPlateau'>\n",
      "34-th SE update triggered\n",
      "Scheduler :<class 'torch.optim.lr_scheduler.ReduceLROnPlateau'>\n",
      "35-th SE update triggered\n",
      "Scheduler :<class 'torch.optim.lr_scheduler.ReduceLROnPlateau'>\n",
      "36-th SE update triggered\n",
      "Scheduler :<class 'torch.optim.lr_scheduler.ReduceLROnPlateau'>\n",
      "37-th SE update triggered\n",
      "Scheduler :<class 'torch.optim.lr_scheduler.ReduceLROnPlateau'>\n",
      "38-th SE update triggered\n",
      "Scheduler :<class 'torch.optim.lr_scheduler.ReduceLROnPlateau'>\n",
      "39-th SE update triggered\n",
      "Scheduler :<class 'torch.optim.lr_scheduler.ReduceLROnPlateau'>\n",
      "40-th SE update triggered\n",
      "Scheduler :<class 'torch.optim.lr_scheduler.ReduceLROnPlateau'>\n",
      "41-th SE update triggered\n",
      "Scheduler :<class 'torch.optim.lr_scheduler.ReduceLROnPlateau'>\n",
      "Wrapping up training!, Final models count:  2\n",
      "Wrapping up training!, Final models count:  0\n",
      "lastk:  12\n",
      "1-th SE update triggered\n",
      "Scheduler :<class 'autoPyTorch.components.lr_scheduler.lr_schedulers.CosineAnnealingWithRestartsLR'>\n",
      "2-th SE update triggered\n",
      "Scheduler :<class 'autoPyTorch.components.lr_scheduler.lr_schedulers.CosineAnnealingWithRestartsLR'>\n",
      "3-th SE update triggered\n",
      "Scheduler :<class 'autoPyTorch.components.lr_scheduler.lr_schedulers.CosineAnnealingWithRestartsLR'>\n",
      "4-th SE update triggered\n",
      "Scheduler :<class 'autoPyTorch.components.lr_scheduler.lr_schedulers.CosineAnnealingWithRestartsLR'>\n",
      "5-th SE update triggered\n",
      "Scheduler :<class 'autoPyTorch.components.lr_scheduler.lr_schedulers.CosineAnnealingWithRestartsLR'>\n",
      "6-th SE update triggered\n",
      "Scheduler :<class 'autoPyTorch.components.lr_scheduler.lr_schedulers.CosineAnnealingWithRestartsLR'>\n",
      "7-th SE update triggered\n",
      "Scheduler :<class 'autoPyTorch.components.lr_scheduler.lr_schedulers.CosineAnnealingWithRestartsLR'>\n",
      "Wrapping up training!, Final models count:  7\n",
      "The Box-Cox transformation can only be applied to strictly positive data\n",
      "Using yeo-johnson instead\n",
      "Wrapping up training!, Final models count:  0\n",
      "lastk:  12\n",
      "1-th SE update triggered\n",
      "Scheduler :<class 'autoPyTorch.components.lr_scheduler.lr_schedulers.CosineAnnealingWithRestartsLR'>\n",
      "2-th SE update triggered\n",
      "Scheduler :<class 'autoPyTorch.components.lr_scheduler.lr_schedulers.CosineAnnealingWithRestartsLR'>\n",
      "3-th SE update triggered\n",
      "Scheduler :<class 'autoPyTorch.components.lr_scheduler.lr_schedulers.CosineAnnealingWithRestartsLR'>\n",
      "4-th SE update triggered\n",
      "Scheduler :<class 'autoPyTorch.components.lr_scheduler.lr_schedulers.CosineAnnealingWithRestartsLR'>\n",
      "Wrapping up training!, Final models count:  4\n"
     ]
    }
   ],
   "source": [
    "# Fit (note that the settings are for demonstration, you might need larger budgets)\n",
    "results_fit = autonet.fit(X_train=X_train,\n",
    "                          Y_train=Y_train,\n",
    "                          validation_split=0.3,\n",
    "                          max_runtime=600,\n",
    "                          min_budget=30,\n",
    "                          max_budget=200,\n",
    "                          refit=True)\n",
    "\n",
    "# Save fit results as json \n",
    "with open(\"logs/results_fit.json\", \"w\") as file:\n",
    "    json.dump(results_fit, file)"
   ]
  },
  {
   "cell_type": "code",
   "execution_count": null,
   "metadata": {},
   "outputs": [],
   "source": [
    "model_snapshots = autonet.get_ensemble()"
   ]
  },
  {
   "cell_type": "code",
   "execution_count": null,
   "metadata": {},
   "outputs": [],
   "source": [
    "print(len(model_snapshots))"
   ]
  },
  {
   "cell_type": "markdown",
   "metadata": {},
   "source": [
    "***refit*** allows you to fit a configuration of your choice for a defined time. By default, the incumbent configuration is refitted during a *fit* call using the *max_budget*. However, *refit* might be useful if you want to fit on the full dataset or even another dataset or if you just want to fit a model without searching.\n",
    "\n",
    "You can specify a hyperparameter configuration to fit (if you do not specify a configuration the incumbent configuration from the last fit call will be used):"
   ]
  },
  {
   "cell_type": "code",
   "execution_count": 10,
   "metadata": {},
   "outputs": [
    {
     "name": "stdout",
     "output_type": "stream",
     "text": [
      "{'optimized_hyperparameter_config': {'CreateDataLoader:batch_size': 90, 'Imputation:strategy': 'mean', 'InitializationSelector:initialization_method': 'sparse', 'InitializationSelector:initializer:initialize_bias': 'Yes', 'LearningrateSchedulerSelector:lr_scheduler': 'cosine_annealing', 'LossModuleSelector:loss_module': 'cross_entropy', 'NetworkSelector:network': 'shapedresnet', 'NetworkSelector:use_lookahead': False, 'NetworkSelector:use_se': True, 'NetworkSelector:use_swa': False, 'NormalizationStrategySelector:normalization_strategy': 'standardize', 'OptimizerSelector:optimizer': 'adam', 'PreprocessorSelector:preprocessor': 'none', 'ResamplingStrategySelector:over_sampling_method': 'smote', 'ResamplingStrategySelector:target_size_strategy': 'median', 'ResamplingStrategySelector:under_sampling_method': 'random', 'TrainNode:batch_loss_computation_technique': 'cutout', 'InitializationSelector:sparse:sparsity': 0.9, 'LearningrateSchedulerSelector:cosine_annealing:T_max': 5, 'LearningrateSchedulerSelector:cosine_annealing:T_mult': 1.8609568805407155, 'NetworkSelector:se_lastk': 12, 'NetworkSelector:shapedresnet:activation': 'relu', 'NetworkSelector:shapedresnet:blocks_per_group': 2, 'NetworkSelector:shapedresnet:max_units': 57, 'NetworkSelector:shapedresnet:num_groups': 5, 'NetworkSelector:shapedresnet:resnet_shape': 'long_funnel', 'NetworkSelector:shapedresnet:use_batch_normalization': False, 'NetworkSelector:shapedresnet:use_dropout': True, 'NetworkSelector:shapedresnet:use_shake_drop': False, 'NetworkSelector:shapedresnet:use_shake_shake': True, 'OptimizerSelector:adam:learning_rate': 0.0010058722557211353, 'OptimizerSelector:adam:use_weight_decay': False, 'ResamplingStrategySelector:smote:k_neighbors': 4, 'TrainNode:cutout:cutout_prob': 0.23586422897442916, 'TrainNode:cutout:patch_ratio': 0.8392537552365329, 'NetworkSelector:shapedresnet:dropout_shape': 'brick', 'NetworkSelector:shapedresnet:max_dropout': 0.04047000834089758}, 'budget': 66.66666666666666, 'loss': -73.81481481481481, 'info': {'loss': 0.5838898931230817, 'train_accuracy': 72.22222222222221, 'lr_scheduler_converged': 1.0, 'lr': 8.252961194571234e-07, 'val_accuracy': 74.81481481481481}}\n"
     ]
    }
   ],
   "source": [
    "print(results_fit)"
   ]
  },
  {
   "cell_type": "code",
   "execution_count": 11,
   "metadata": {},
   "outputs": [
    {
     "name": "stdout",
     "output_type": "stream",
     "text": [
      "Model prediction: [[0.]\n",
      " [0.]\n",
      " [0.]\n",
      " [1.]\n",
      " [0.]\n",
      " [0.]\n",
      " [1.]\n",
      " [1.]\n",
      " [1.]\n",
      " [0.]]\n",
      "Accuracy score 64.0\n"
     ]
    }
   ],
   "source": [
    "# See how the random configuration performs (often it just predicts 0)\n",
    "score = autonet.score(X_test=X_test, Y_test=Y_test)\n",
    "pred = autonet.predict(X=X_test)\n",
    "\n",
    "print(\"Model prediction:\", pred[0:10])\n",
    "print(\"Accuracy score\", score)"
   ]
  },
  {
   "cell_type": "code",
   "execution_count": null,
   "metadata": {},
   "outputs": [],
   "source": [
    "# Refit with sampled hyperparameter config for 120 s. This time on the full dataset.\n",
    "results_refit = autonet.refit(X_train=X_train,\n",
    "                              Y_train=Y_train,\n",
    "                              X_valid=None,\n",
    "                              Y_valid=None,\n",
    "                              autonet_config=autonet.get_current_autonet_config(),\n",
    "                              budget=600)\n",
    "\n",
    "# Save json\n",
    "with open(\"logs/results_refit.json\", \"w\") as file:\n",
    "    json.dump(results_refit, file)"
   ]
  },
  {
   "cell_type": "code",
   "execution_count": null,
   "metadata": {},
   "outputs": [],
   "source": [
    "# Create an autonet\n",
    "autonet_config = {\n",
    "    \"result_logger_dir\" : \"logs/\",\n",
    "    \"budget_type\" : \"epochs\",\n",
    "    \"log_level\" : \"info\", \n",
    "    \"use_tensorboard_logger\" : True,\n",
    "    \"validation_split\" : 0.0\n",
    "    }\n",
    "# Refit with sampled hyperparameter config for 120 s. This time on the full dataset.\n",
    "results_refit = autonet.refit(X_train=X_train,\n",
    "                              Y_train=Y_train,\n",
    "                              X_valid=None,\n",
    "                              Y_valid=None,\n",
    "                              autonet_config=autonet.get_current_autonet_config(),\n",
    "                              budget=30)\n",
    "\n",
    "# Save json\n",
    "with open(\"logs/results_refit.json\", \"w\") as file:\n",
    "    json.dump(results_refit, file)"
   ]
  },
  {
   "cell_type": "markdown",
   "metadata": {},
   "source": [
    "***pred*** returns the predictions of the incumbent model. ***score*** can be used to evaluate the model on a test set. "
   ]
  },
  {
   "cell_type": "code",
   "execution_count": null,
   "metadata": {},
   "outputs": [],
   "source": [
    "# See how the random configuration performs (often it just predicts 0)\n",
    "score = autonet.score(X_test=X_test, Y_test=Y_test)\n",
    "pred = autonet.predict(X=X_test)\n",
    "\n",
    "print(\"Model prediction:\", pred[0:10])\n",
    "print(\"Accuracy score\", score)"
   ]
  },
  {
   "cell_type": "markdown",
   "metadata": {},
   "source": [
    "Finally, you can also get the incumbent model as PyTorch Sequential model via"
   ]
  },
  {
   "cell_type": "code",
   "execution_count": null,
   "metadata": {
    "scrolled": false
   },
   "outputs": [],
   "source": [
    "pytorch_model = autonet.get_pytorch_model()\n",
    "print(pytorch_model)"
   ]
  },
  {
   "cell_type": "markdown",
   "metadata": {},
   "source": [
    "# Featurized Data\n",
    "\n",
    "All classes for featurized data (*AutoNetClassification*, *AutoNetMultilabel*, *AutoNetRegression*) can be used as in the example above. The only difference is the type of labels they accept."
   ]
  },
  {
   "cell_type": "markdown",
   "metadata": {},
   "source": [
    "# Image Data\n",
    "\n",
    "Auto-PyTorch provides two classes for image data. *autonet_image_classification* can be used for classification for images. The *autonet_multi_image_classification* class allows to search for configurations for image classification across multiple datasets. This means Auto-PyTorch will try to choose a configuration that works well on all given datasets."
   ]
  },
  {
   "cell_type": "code",
   "execution_count": null,
   "metadata": {},
   "outputs": [],
   "source": [
    "# Load classes\n",
    "autonet_image_classification = AutoNetImageClassification(config_preset=\"full_cs\", result_logger_dir=\"logs/\")\n",
    "autonet_multi_image_classification = AutoNetImageClassificationMultipleDatasets(config_preset=\"tiny_cs\", result_logger_dir=\"logs/\")"
   ]
  },
  {
   "cell_type": "markdown",
   "metadata": {},
   "source": [
    "For passing your image data, you have two options (note that arrays are expected):\n",
    "\n",
    "I) Via a path to a comma-separated value file, which in turn contains the paths to the images and the image labels (note header is assumed to be None):"
   ]
  },
  {
   "cell_type": "code",
   "execution_count": null,
   "metadata": {},
   "outputs": [],
   "source": [
    "csv_dir = os.path.abspath(\"../../datasets/example.csv\")\n",
    "\n",
    "X_train = np.array([csv_dir])\n",
    "Y_train = np.array([0])"
   ]
  },
  {
   "cell_type": "markdown",
   "metadata": {},
   "source": [
    "II) directly passing the paths to the images and the labels"
   ]
  },
  {
   "cell_type": "code",
   "execution_count": null,
   "metadata": {},
   "outputs": [],
   "source": [
    "df = pd.read_csv(csv_dir, header=None)\n",
    "X_train = df.values[:,0]\n",
    "Y_train = df.values[:,1]"
   ]
  },
  {
   "cell_type": "markdown",
   "metadata": {
    "scrolled": false
   },
   "source": [
    "Make sure you specify *image_root_folders* if the paths to the images are not specified from your current working directory. You can also specify *images_shape* to up- or downscale images.\n",
    "\n",
    "Using the flag *save_checkpoints=True* will save checkpoints to the result directory:"
   ]
  },
  {
   "cell_type": "code",
   "execution_count": null,
   "metadata": {
    "scrolled": false
   },
   "outputs": [],
   "source": [
    "autonet_image_classification.fit(X_train=X_train,\n",
    "                                 Y_train=Y_train,\n",
    "                                 images_shape=[3,32,32],\n",
    "                                 min_budget=200,\n",
    "                                 max_budget=400,\n",
    "                                 max_runtime=600,\n",
    "                                 save_checkpoints=True,\n",
    "                                 images_root_folders=[os.path.abspath(\"../../datasets/example_images\")])"
   ]
  },
  {
   "cell_type": "markdown",
   "metadata": {},
   "source": [
    "Auto-PyTorch also supports some common datasets. By passing a comma-separated value file with just one line, e.g. \"CIFAR10, 0\" and specifying *default_dataset_download_dir* it will automatically download the data and use it for searching. Supported datasets are CIFAR10, CIFAR100, SVHN and MNIST."
   ]
  },
  {
   "cell_type": "code",
   "execution_count": null,
   "metadata": {
    "scrolled": false
   },
   "outputs": [],
   "source": [
    "path_to_cifar_csv = os.path.abspath(\"../../datasets/CIFAR10.csv\")\n",
    "\n",
    "autonet_image_classification.fit(X_train=np.array([path_to_cifar_csv]),\n",
    "                                 Y_train=np.array([0]),\n",
    "                                 min_budget=600,\n",
    "                                 max_budget=900,\n",
    "                                 max_runtime=1800,\n",
    "                                 default_dataset_download_dir=\"./datasets\",\n",
    "                                 images_root_folders=[\"./datasets\"])"
   ]
  },
  {
   "cell_type": "markdown",
   "metadata": {},
   "source": [
    "For searching across multiple datasets, pass multiple csv files to the corresponding Auto-PyTorch class. Make sure your specify *images_root_folders* for each of them."
   ]
  },
  {
   "cell_type": "code",
   "execution_count": null,
   "metadata": {},
   "outputs": [],
   "source": [
    "autonet_multi_image_classification.fit(X_train=np.array([path_to_cifar_csv, csv_dir]),\n",
    "                                       Y_train=np.array([0]),\n",
    "                                       min_budget=1500,\n",
    "                                       max_budget=2000,\n",
    "                                       max_runtime=4000,\n",
    "                                       default_dataset_download_dir=\"./datasets\",\n",
    "                                       images_root_folders=[\"./datasets\", \"./datasets/example_images\"])"
   ]
  }
 ],
 "metadata": {
  "kernelspec": {
   "display_name": "Python 3",
   "language": "python",
   "name": "python3"
  },
  "language_info": {
   "codemirror_mode": {
    "name": "ipython",
    "version": 3
   },
   "file_extension": ".py",
   "mimetype": "text/x-python",
   "name": "python",
   "nbconvert_exporter": "python",
   "pygments_lexer": "ipython3",
   "version": "3.7.5"
  }
 },
 "nbformat": 4,
 "nbformat_minor": 2
}
